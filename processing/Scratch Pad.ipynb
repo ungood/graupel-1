{
 "cells": [
  {
   "cell_type": "markdown",
   "id": "eee8cb41",
   "metadata": {},
   "source": [
    "This notebook contains code from the other notebooks that I didn't want to keep in them, but also didn't want to lose."
   ]
  },
  {
   "cell_type": "code",
   "execution_count": null,
   "id": "047e0979",
   "metadata": {},
   "outputs": [],
   "source": []
  },
  {
   "cell_type": "markdown",
   "id": "fe41d382",
   "metadata": {},
   "source": [
    "$\\frac{\\rho}{\\rho_b}=\\frac{P}{P_b}\\cdot\\frac{T_b}{T}$"
   ]
  },
  {
   "cell_type": "code",
   "execution_count": null,
   "id": "bf92840c",
   "metadata": {},
   "outputs": [],
   "source": [
    "def saturation_pressure_of_water_vapor(temperature_C):\n",
    "    \"\"\"\n",
    "    Estimates the saturation pressure (kPa) of water vapor for a given temperature (C)\n",
    "    using Teten's fomula, described: https://en.wikipedia.org/wiki/Tetens_equation\n",
    "    \"\"\"\n",
    "    if(temperature_C > 0):\n",
    "        return 0.61078 * np.exp((17.27 * temperature_C) / (temperature_C + 237.3))\n",
    "    else:\n",
    "        return 0.61078 * np.exp((21.875 * temperature_C) / (temperature_C + 265.5))\n",
    "    \n",
    "def water_vapor_pressure(temperature_C, relative_humidity):\n",
    "    \"\"\"\n",
    "    Relative humidity is defined as the ratio (expressed as a percentage) of the actual vapor pressure to\n",
    "    the saturation vapor pressure at a given temperature.\n",
    "    \"\"\"\n",
    "    return saturation_pressure_of_water_vapor(temperature_C) * (relative_humidity/100) * 1000\n",
    "    \n",
    "print(f\"Es(30) = {saturation_pressure_of_water_vapor(30)}\")\n",
    "print(f\"Es(-35) = {saturation_pressure_of_water_vapor(-30)}\")\n",
    "\n",
    "water_vapor_pressure(-56, 40)"
   ]
  },
  {
   "cell_type": "code",
   "execution_count": null,
   "id": "d9e27fc1",
   "metadata": {},
   "outputs": [],
   "source": [
    "gas_constant_dry_air = 287.053 # J/kg*K\n",
    "\n",
    "# From: https://commons.erau.edu/cgi/viewcontent.cgi?article=1124&context=ijaaa\n",
    "def calc_altitude(pressure_Pa, temperature_C, humidity_RH):\n",
    "    temperature_K = temperature_C + 273.15\n",
    "    layer = isa['base_pressure_Pa'].searchsorted(pressure_Pa)\n",
    "    parameters = isa.iloc[layer]\n",
    "    \n",
    "    base_altitude_m = parameters['geopotential_altitude_m']\n",
    "    base_temperature_K = parameters['base_temperature_K']\n",
    "    temp_ratio = base_temperature_K / temperature_K\n",
    "    \n",
    "    vapor_pressure = water_vapor_pressure(temperature_C, humidity_RH)\n",
    "    moist_air_pressure = pressure_Pa + vapor_pressure\n",
    "    pressure_ratio = moist_air_pressure / parameters['base_pressure_Pa']\n",
    "    \n",
    "    density_ratio = pressure_ratio * temp_ratio\n",
    "#    print(density_ratio)\n",
    "    lapse_rate = parameters['lapse_rate_K_m']\n",
    "    \n",
    "    #TODO: What does this represent, whats a good name?\n",
    "    RdL = dry_air_gas_constant * lapse_rate\n",
    "    foo = -1.0 * (RdL) / (gravitational_acceleration + RdL)\n",
    "#    print(foo)\n",
    "    \n",
    "    if lapse_rate == 0:\n",
    "        factor = altitude_constants * base_temperature_K\n",
    "#        print(factor)\n",
    "        return base_altitude_m + factor * math.log(density_ratio)\n",
    "    else:\n",
    "        factor = base_temperature_K / lapse_rate\n",
    "#        print(factor)\n",
    "        exponent = altitude_constants * lapse_rate\n",
    "#        print(exponent)\n",
    "        return base_altitude_m + factor * (pow(density_ratio, exponent)-1)\n",
    "    \n",
    "calc_altitude = np.vectorize(calc_altitude)\n",
    "\n",
    "print(calc_altitude(108900, 19, 20))\n",
    "print(calc_altitude(108900, 19, 30))\n",
    "print(calc_altitude(108900, 19, 40))\n",
    "\n",
    "print()\n",
    "print(calc_altitude(50000, 19, 0))\n",
    "print()\n",
    "print(calc_altitude(22633, 19, 20))"
   ]
  },
  {
   "cell_type": "code",
   "execution_count": null,
   "id": "0ec8ab3e",
   "metadata": {},
   "outputs": [],
   "source": [
    "from mpl_toolkits.basemap import Basemap\n",
    "\n",
    "avg_lat = data['latitude'].mean()\n",
    "avg_lon = data['longitude'].mean()\n",
    "\n",
    "fig,ax = plt.subplots()\n",
    "\n",
    "#map = Basemap(projection='lcc', resolution='i',\n",
    "#      width=2e5, height=2e5,\n",
    "#      lat_0=avg_lat, lon_0=avg_lon,)\n",
    "#map.shadedrelief()\n",
    "\n",
    "padding = 0.1\n",
    "\n",
    "# projection='cass', resolution='i', \n",
    "map = Basemap(epsg=4326,\n",
    "    lat_0 = data['latitude'].mean(),\n",
    "    llcrnrlat=data['latitude'].min() - padding,\n",
    "    urcrnrlat=data['latitude'].max() + padding,\n",
    "    llcrnrlon=data['longitude'].min() - padding,\n",
    "    urcrnrlon=data['longitude'].max() + padding,\n",
    "    lon_0 = data['longitude'].mean())\n",
    "\n",
    "#map = Basemap(llcrnrlon=-10.5,llcrnrlat=33,urcrnrlon=10.,urcrnrlat=46.,\n",
    "#             resolution='i', projection='cass', lat_0 = 39.5, lon_0 = 0.)\n",
    "\n",
    "map.arcgisimage(service='ESRI_Imagery_World_2D')\n",
    "\n",
    "ax.plot(data['longitude'], data['latitude'])\n"
   ]
  }
 ],
 "metadata": {
  "kernelspec": {
   "display_name": "Python 3",
   "language": "python",
   "name": "python3"
  },
  "language_info": {
   "codemirror_mode": {
    "name": "ipython",
    "version": 3
   },
   "file_extension": ".py",
   "mimetype": "text/x-python",
   "name": "python",
   "nbconvert_exporter": "python",
   "pygments_lexer": "ipython3",
   "version": "3.7.10"
  }
 },
 "nbformat": 4,
 "nbformat_minor": 5
}
